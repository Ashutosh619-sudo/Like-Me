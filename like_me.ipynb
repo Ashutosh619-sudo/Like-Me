{
  "nbformat": 4,
  "nbformat_minor": 0,
  "metadata": {
    "colab": {
      "name": "like me.ipynb",
      "provenance": []
    },
    "kernelspec": {
      "name": "python3",
      "display_name": "Python 3"
    },
    "accelerator": "GPU"
  },
  "cells": [
    {
      "cell_type": "code",
      "metadata": {
        "id": "BpGJFlG8sZbA"
      },
      "source": [
        "import pandas as pd\n",
        "import json\n",
        "import numpy as np"
      ],
      "execution_count": null,
      "outputs": []
    },
    {
      "cell_type": "code",
      "metadata": {
        "id": "mhoYlRgfTo4E"
      },
      "source": [
        "!unzip chatbot.zip"
      ],
      "execution_count": null,
      "outputs": []
    },
    {
      "cell_type": "code",
      "metadata": {
        "id": "dyUgKlIAYdxi"
      },
      "source": [
        "!unzip kriti.zip"
      ],
      "execution_count": null,
      "outputs": []
    },
    {
      "cell_type": "code",
      "metadata": {
        "id": "L-qAsYN_s0LZ"
      },
      "source": [
        "sample_path = \"friendName.json\"\n",
        "sample_message = open(sample_path)"
      ],
      "execution_count": null,
      "outputs": []
    },
    {
      "cell_type": "code",
      "metadata": {
        "id": "_1Rxv83PtXbt"
      },
      "source": [
        "sample_message = json.load(sample_message)"
      ],
      "execution_count": null,
      "outputs": []
    },
    {
      "cell_type": "code",
      "metadata": {
        "id": "une38muvtebX"
      },
      "source": [
        "sample_message = sample_message[\"messages\"]"
      ],
      "execution_count": null,
      "outputs": []
    },
    {
      "cell_type": "code",
      "metadata": {
        "id": "RUlt0Isbtf0Y",
        "outputId": "9d1ad185-e2c6-4311-cc33-06ebc6abc659",
        "colab": {
          "base_uri": "https://localhost:8080/",
          "height": 35
        }
      },
      "source": [
        "len(sample_message)"
      ],
      "execution_count": null,
      "outputs": [
        {
          "output_type": "execute_result",
          "data": {
            "text/plain": [
              "1377"
            ]
          },
          "metadata": {
            "tags": []
          },
          "execution_count": 77
        }
      ]
    },
    {
      "cell_type": "code",
      "metadata": {
        "id": "PJmd9bVRtvGU"
      },
      "source": [
        "sample_message"
      ],
      "execution_count": null,
      "outputs": []
    },
    {
      "cell_type": "code",
      "metadata": {
        "id": "n3NgB0em2d-6"
      },
      "source": [
        "new_sample = []\n",
        "for m in sample_message:\n",
        "  if \"content\" in m.keys():\n",
        "    new_sample.append(m)"
      ],
      "execution_count": null,
      "outputs": []
    },
    {
      "cell_type": "code",
      "metadata": {
        "id": "UGLg0EZZ3fKF",
        "outputId": "38c80e56-07a8-4163-aea7-b94b250172a6",
        "colab": {
          "base_uri": "https://localhost:8080/",
          "height": 35
        }
      },
      "source": [
        "len(new_sample)"
      ],
      "execution_count": null,
      "outputs": [
        {
          "output_type": "execute_result",
          "data": {
            "text/plain": [
              "1345"
            ]
          },
          "metadata": {
            "tags": []
          },
          "execution_count": 79
        }
      ]
    },
    {
      "cell_type": "code",
      "metadata": {
        "id": "wum01upXunw5"
      },
      "source": [
        "pairs = []\n",
        "message = []\n",
        "for m in new_sample[::-1]:\n",
        "  if len(message) == 0 or len(message) == 2:\n",
        "    if m[\"sender_name\"] == \"Vartika Pandey \":\n",
        "      message = []\n",
        "      message.append(m[\"content\"])\n",
        "      print(message)\n",
        "  elif len(message) == 1:\n",
        "    if m[\"sender_name\"] == \"Vartika Pandey \":\n",
        "      message[0] = message[0] + \" \" + m[\"content\"]\n",
        "      print()\n",
        "    else:\n",
        "      message.append(m[\"content\"])\n",
        "  else:\n",
        "    if m[\"sender_name\"] == \"Ashutosh Singh\":\n",
        "      message[1] = message[1] + \" \" + m[\"content\"]\n",
        "\n",
        "  pairs.append(message)                 "
      ],
      "execution_count": null,
      "outputs": []
    },
    {
      "cell_type": "code",
      "metadata": {
        "id": "X95msV2_Z7m1"
      },
      "source": [
        "pairs"
      ],
      "execution_count": null,
      "outputs": []
    },
    {
      "cell_type": "code",
      "metadata": {
        "id": "BrskjUawauFL"
      },
      "source": [
        "new_pair = []\n",
        "for pair in pairs:\n",
        "  if len(pair)==2:\n",
        "    new_pair.append(pair)"
      ],
      "execution_count": null,
      "outputs": []
    },
    {
      "cell_type": "code",
      "metadata": {
        "id": "3rcL03v7-irg"
      },
      "source": [
        "new_pair"
      ],
      "execution_count": null,
      "outputs": []
    },
    {
      "cell_type": "code",
      "metadata": {
        "id": "zbDHZ81pbBBy"
      },
      "source": [
        "me = []\n",
        "other = []\n",
        "for pair in new_pair:\n",
        "    other.append(pair[0])\n",
        "    me.append(pair[1])"
      ],
      "execution_count": null,
      "outputs": []
    },
    {
      "cell_type": "code",
      "metadata": {
        "id": "IzXm3dhkf0vQ",
        "outputId": "8aca6648-1002-4264-a17b-f2dcfd24b5b1",
        "colab": {
          "base_uri": "https://localhost:8080/",
          "height": 35
        }
      },
      "source": [
        "len(other),len(me)"
      ],
      "execution_count": null,
      "outputs": [
        {
          "output_type": "execute_result",
          "data": {
            "text/plain": [
              "(4094, 4094)"
            ]
          },
          "metadata": {
            "tags": []
          },
          "execution_count": 67
        }
      ]
    },
    {
      "cell_type": "code",
      "metadata": {
        "id": "6AMCyhCiloyB"
      },
      "source": [
        "array[]"
      ],
      "execution_count": null,
      "outputs": []
    },
    {
      "cell_type": "code",
      "metadata": {
        "id": "QdflUz5w6bj8",
        "outputId": "0659d1e6-f7aa-45fb-aef0-02d246094284",
        "colab": {
          "base_uri": "https://localhost:8080/",
          "height": 136
        }
      },
      "source": [
        "np.array(new_pair)[:][0:len(new_pair)]"
      ],
      "execution_count": null,
      "outputs": [
        {
          "output_type": "execute_result",
          "data": {
            "text/plain": [
              "array([list([\"Hlw!! What's happening??\", 'Online chemistry padh rha hu']),\n",
              "       list([\"Hlw!! What's happening??\", 'Online chemistry padh rha hu']),\n",
              "       list([\"Hlw!! What's happening??\", 'Online chemistry padh rha hu']),\n",
              "       ...,\n",
              "       list(['Haa ð\\x9f\\x98ªð\\x9f\\x98ªð\\x9f\\x98ª Kon h wo khushnseeb', 'Khushnseeb waah']),\n",
              "       list(['Haa ð\\x9f\\x98ªð\\x9f\\x98ªð\\x9f\\x98ª Kon h wo khushnseeb', 'Khushnseeb waah']),\n",
              "       list(['ð\\x9f\\x98\\x92ð\\x9f\\x98\\x92'])], dtype=object)"
            ]
          },
          "metadata": {
            "tags": []
          },
          "execution_count": 45
        }
      ]
    },
    {
      "cell_type": "code",
      "metadata": {
        "id": "PeFvc4pcacwF"
      },
      "source": [
        "sample_df"
      ],
      "execution_count": null,
      "outputs": []
    },
    {
      "cell_type": "code",
      "metadata": {
        "id": "hNxvwM8AvxOJ"
      },
      "source": [
        "sample_df[\"me\"] = pairs[:,1]"
      ],
      "execution_count": null,
      "outputs": []
    },
    {
      "cell_type": "code",
      "metadata": {
        "id": "PaUrCrVo6YlA",
        "outputId": "9417fa66-973e-4be6-8b67-b07382bff4c2",
        "colab": {
          "base_uri": "https://localhost:8080/",
          "height": 204
        }
      },
      "source": [
        "sample_df.head()"
      ],
      "execution_count": null,
      "outputs": [
        {
          "output_type": "execute_result",
          "data": {
            "text/html": [
              "<div>\n",
              "<style scoped>\n",
              "    .dataframe tbody tr th:only-of-type {\n",
              "        vertical-align: middle;\n",
              "    }\n",
              "\n",
              "    .dataframe tbody tr th {\n",
              "        vertical-align: top;\n",
              "    }\n",
              "\n",
              "    .dataframe thead th {\n",
              "        text-align: right;\n",
              "    }\n",
              "</style>\n",
              "<table border=\"1\" class=\"dataframe\">\n",
              "  <thead>\n",
              "    <tr style=\"text-align: right;\">\n",
              "      <th></th>\n",
              "      <th>other_person</th>\n",
              "      <th>me</th>\n",
              "    </tr>\n",
              "  </thead>\n",
              "  <tbody>\n",
              "    <tr>\n",
              "      <th>0</th>\n",
              "      <td>[]</td>\n",
              "      <td>[Hlw!! What's happening??, Online chemistry pa...</td>\n",
              "    </tr>\n",
              "    <tr>\n",
              "      <th>1</th>\n",
              "      <td>[]</td>\n",
              "      <td>[Hlw!! What's happening??, Online chemistry pa...</td>\n",
              "    </tr>\n",
              "    <tr>\n",
              "      <th>2</th>\n",
              "      <td>[]</td>\n",
              "      <td>[Hlw!! What's happening??, Online chemistry pa...</td>\n",
              "    </tr>\n",
              "    <tr>\n",
              "      <th>3</th>\n",
              "      <td>[]</td>\n",
              "      <td>[Hlw!! What's happening??, Online chemistry pa...</td>\n",
              "    </tr>\n",
              "    <tr>\n",
              "      <th>4</th>\n",
              "      <td>[]</td>\n",
              "      <td>[Hlw!! What's happening??, Online chemistry pa...</td>\n",
              "    </tr>\n",
              "  </tbody>\n",
              "</table>\n",
              "</div>"
            ],
            "text/plain": [
              "  other_person                                                 me\n",
              "0           []  [Hlw!! What's happening??, Online chemistry pa...\n",
              "1           []  [Hlw!! What's happening??, Online chemistry pa...\n",
              "2           []  [Hlw!! What's happening??, Online chemistry pa...\n",
              "3           []  [Hlw!! What's happening??, Online chemistry pa...\n",
              "4           []  [Hlw!! What's happening??, Online chemistry pa..."
            ]
          },
          "metadata": {
            "tags": []
          },
          "execution_count": 39
        }
      ]
    },
    {
      "cell_type": "code",
      "metadata": {
        "id": "2MQoGrr3Jzwm"
      },
      "source": [
        "sample_df = sample_df.drop_duplicates(keep=\"first\")"
      ],
      "execution_count": null,
      "outputs": []
    },
    {
      "cell_type": "code",
      "metadata": {
        "id": "j-o2vZolKW-S",
        "outputId": "ea308749-2217-4cf8-8a3b-1c750e96cbf4",
        "colab": {
          "base_uri": "https://localhost:8080/",
          "height": 419
        }
      },
      "source": [
        "sample_df"
      ],
      "execution_count": null,
      "outputs": [
        {
          "output_type": "execute_result",
          "data": {
            "text/html": [
              "<div>\n",
              "<style scoped>\n",
              "    .dataframe tbody tr th:only-of-type {\n",
              "        vertical-align: middle;\n",
              "    }\n",
              "\n",
              "    .dataframe tbody tr th {\n",
              "        vertical-align: top;\n",
              "    }\n",
              "\n",
              "    .dataframe thead th {\n",
              "        text-align: right;\n",
              "    }\n",
              "</style>\n",
              "<table border=\"1\" class=\"dataframe\">\n",
              "  <thead>\n",
              "    <tr style=\"text-align: right;\">\n",
              "      <th></th>\n",
              "      <th>other_person</th>\n",
              "      <th>me</th>\n",
              "    </tr>\n",
              "  </thead>\n",
              "  <tbody>\n",
              "    <tr>\n",
              "      <th>0</th>\n",
              "      <td>Haa to jaenge na</td>\n",
              "      <td>Haa jao aram kro tb</td>\n",
              "    </tr>\n",
              "    <tr>\n",
              "      <th>2</th>\n",
              "      <td>ðjaa rhe Dust Chodh ke Hmko</td>\n",
              "      <td>Are nhi ji</td>\n",
              "    </tr>\n",
              "    <tr>\n",
              "      <th>8</th>\n",
              "      <td>ððare tmko nind AA rhi to jao kaam krna ...</td>\n",
              "      <td>Nhi jaana tumhari trh dust nhi ki chodh ke jaau</td>\n",
              "    </tr>\n",
              "    <tr>\n",
              "      <th>11</th>\n",
              "      <td>ðMeri trh</td>\n",
              "      <td>Haa dust ho tum</td>\n",
              "    </tr>\n",
              "    <tr>\n",
              "      <th>13</th>\n",
              "      <td>Chup rho aisa hm ni krte TM jaate ho chodh ke</td>\n",
              "      <td>Tum jaa rhi ho n itna dur</td>\n",
              "    </tr>\n",
              "    <tr>\n",
              "      <th>...</th>\n",
              "      <td>...</td>\n",
              "      <td>...</td>\n",
              "    </tr>\n",
              "    <tr>\n",
              "      <th>9958</th>\n",
              "      <td>ð¥°haa jb MN krega tb Krenge ð protection ...</td>\n",
              "      <td>Haa vhi</td>\n",
              "    </tr>\n",
              "    <tr>\n",
              "      <th>9963</th>\n",
              "      <td>ð¥°ð¥°ð¥°ð¥° Haaaa Babuu â¤ï¸</td>\n",
              "      <td>Jao aram kro</td>\n",
              "    </tr>\n",
              "    <tr>\n",
              "      <th>9967</th>\n",
              "      <td>ðððjaa rhe</td>\n",
              "      <td>I love u</td>\n",
              "    </tr>\n",
              "    <tr>\n",
              "      <th>9970</th>\n",
              "      <td>I love you babu â¤ï¸</td>\n",
              "      <td>Love u tc</td>\n",
              "    </tr>\n",
              "    <tr>\n",
              "      <th>9972</th>\n",
              "      <td>Gud night take care love you babu â¤ï¸</td>\n",
              "      <td>Byee</td>\n",
              "    </tr>\n",
              "  </tbody>\n",
              "</table>\n",
              "<p>3087 rows × 2 columns</p>\n",
              "</div>"
            ],
            "text/plain": [
              "                                           other_person                                               me\n",
              "0                                      Haa to jaenge na                              Haa jao aram kro tb\n",
              "2                        ðjaa rhe Dust Chodh ke Hmko                                       Are nhi ji\n",
              "8     ððare tmko nind AA rhi to jao kaam krna ...  Nhi jaana tumhari trh dust nhi ki chodh ke jaau\n",
              "11                                         ðMeri trh                                  Haa dust ho tum\n",
              "13        Chup rho aisa hm ni krte TM jaate ho chodh ke                        Tum jaa rhi ho n itna dur\n",
              "...                                                 ...                                              ...\n",
              "9958  ð¥°haa jb MN krega tb Krenge ð protection ...                                          Haa vhi\n",
              "9963                ð¥°ð¥°ð¥°ð¥° Haaaa Babuu â¤ï¸                                     Jao aram kro\n",
              "9967                                ðððjaa rhe                                         I love u\n",
              "9970                             I love you babu â¤ï¸                                        Love u tc\n",
              "9972           Gud night take care love you babu â¤ï¸                                             Byee\n",
              "\n",
              "[3087 rows x 2 columns]"
            ]
          },
          "metadata": {
            "tags": []
          },
          "execution_count": 69
        }
      ]
    },
    {
      "cell_type": "code",
      "metadata": {
        "id": "lCZq0oV5KgSK",
        "outputId": "bf1c8d33-8f24-432a-acef-ea8d6e87f617",
        "colab": {
          "base_uri": "https://localhost:8080/",
          "height": 34
        }
      },
      "source": [
        "print(sample_df[\"other_person\"][2])"
      ],
      "execution_count": null,
      "outputs": [
        {
          "output_type": "stream",
          "text": [
            "ðjaa rhe Dust Chodh ke Hmko\n"
          ],
          "name": "stdout"
        }
      ]
    },
    {
      "cell_type": "code",
      "metadata": {
        "id": "OHZ3KwFbKuw8"
      },
      "source": [
        "from string import printable"
      ],
      "execution_count": null,
      "outputs": []
    },
    {
      "cell_type": "code",
      "metadata": {
        "id": "FK1wq4E6LUG7"
      },
      "source": [
        "sample_df = sample_df.applymap(lambda y: ''.join(filter(lambda x: \n",
        "            x in printable, y)))"
      ],
      "execution_count": null,
      "outputs": []
    },
    {
      "cell_type": "code",
      "metadata": {
        "id": "d9VVdFtNL4Zp"
      },
      "source": [
        "def remove_emoji(df):\n",
        "  return df.applymap(lambda y: ''.join(filter(lambda x: x in printable, y)))"
      ],
      "execution_count": null,
      "outputs": []
    },
    {
      "cell_type": "code",
      "metadata": {
        "id": "5ad0C3jxRDQG"
      },
      "source": [
        "def json_to_df(path,other_person):\n",
        "  \n",
        "  sample_message = open(path)\n",
        "  \n",
        "  sample_message = json.load(sample_message)\n",
        "  sample_message = sample_message[\"messages\"]\n",
        "\n",
        "  new_sample = []\n",
        "  for m in sample_message:\n",
        "    if \"content\" in m.keys():\n",
        "      new_sample.append(m)\n",
        "  \n",
        "  pairs = []\n",
        "  message = []\n",
        "  for m in new_sample[::-1]:\n",
        "    if len(message) == 0 or len(message) == 2:\n",
        "      if m[\"sender_name\"] == other_person:\n",
        "        message = []\n",
        "        message.append(m[\"content\"])\n",
        "    elif len(message) == 1:\n",
        "      if m[\"sender_name\"] == other_person:\n",
        "        message[0] = message[0] + \" \" + m[\"content\"]\n",
        "      else:\n",
        "        message.append(m[\"content\"])\n",
        "    else:\n",
        "      if m[\"sender_name\"] == \"Ashutosh Singh\":\n",
        "        message[1] = message[1] + \" \" + m[\"content\"]\n",
        "\n",
        "    pairs.append(message)\n",
        "\n",
        "  new_pair = []\n",
        "  for pair in pairs:\n",
        "    if len(pair) == 2:\n",
        "      new_pair.append(pair)  \n",
        "\n",
        "  me = []\n",
        "  other = []\n",
        "\n",
        "  for pair in new_pair:\n",
        "    other.append(pair[0])\n",
        "    me.append(pair[1])\n",
        "\n",
        "  sample_df = pd.DataFrame()\n",
        "  sample_df[\"other\"] = np.array(other)\n",
        "  sample_df[\"me\"] = np.array(me)\n",
        "  sample_df = sample_df.drop_duplicates(keep=\"first\")\n",
        "\n",
        "  df = remove_emoji(sample_df)\n",
        "  return df                  "
      ],
      "execution_count": null,
      "outputs": []
    },
    {
      "cell_type": "code",
      "metadata": {
        "id": "9pRcfZcQjM3A",
        "outputId": "319fcd30-866d-45af-9ca6-713125c6fada",
        "colab": {
          "base_uri": "https://localhost:8080/",
          "height": 71
        }
      },
      "source": [
        "!unzip ayush.zip"
      ],
      "execution_count": null,
      "outputs": [
        {
          "output_type": "stream",
          "text": [
            "Archive:  ayush.zip\n",
            "   creating: ayush/\n",
            "  inflating: ayush/message_1.json    \n"
          ],
          "name": "stdout"
        }
      ]
    },
    {
      "cell_type": "code",
      "metadata": {
        "id": "K7RS5m4uSnvL"
      },
      "source": [
        "tripti_df = json_to_df(\"tripti/message_1.json\",\"Tripti Singh\")\n",
        "vartika_df = json_to_df(\"vartika/message_1.json\",\"Vartika Pandey \")"
      ],
      "execution_count": null,
      "outputs": []
    },
    {
      "cell_type": "code",
      "metadata": {
        "id": "z_1RoCB6WTZ5"
      },
      "source": [
        "ujjwal_df = json_to_df(\"ujjwal/message_1.json\",\"Ujjwal Maurya\")\n",
        "shruti_df = json_to_df(\"shruti/message_1.json\",\"ShRuTi SiNgH\")\n",
        "upasna_df = json_to_df(\"upasna/message_1.json\",\"Upasana Singh\")\n",
        "lavnish_df = json_to_df(\"lavnish/message_1.json\",\"Lavnish Kumar Singh\")\n",
        "ayush_df = json_to_df(\"ayush/message_1.json\",\"Ayush Gupta\")"
      ],
      "execution_count": null,
      "outputs": []
    },
    {
      "cell_type": "code",
      "metadata": {
        "id": "r9epvabnZC1N"
      },
      "source": [
        "kriti_df = json_to_df(\"kriti/message_1.json\",\"Kriti Sharma\")"
      ],
      "execution_count": null,
      "outputs": []
    },
    {
      "cell_type": "code",
      "metadata": {
        "id": "3rnWAa30CPxE"
      },
      "source": [
        "train_df = pd.concat([vartika_df,tripti_df,ujjwal_df,shruti_df,upasna_df,lavnish_df,ayush_df],axis=0)"
      ],
      "execution_count": null,
      "outputs": []
    },
    {
      "cell_type": "code",
      "metadata": {
        "id": "-nDtxXtSCf81"
      },
      "source": [
        "train_df.drop(train_df[train_df[\"other\"]==\" \"].index,inplace=True)"
      ],
      "execution_count": null,
      "outputs": []
    },
    {
      "cell_type": "code",
      "metadata": {
        "id": "-yxayagvFqQU"
      },
      "source": [
        "train_df.drop(train_df[train_df[\"me\"]==\" \"].index,inplace=True)"
      ],
      "execution_count": null,
      "outputs": []
    },
    {
      "cell_type": "code",
      "metadata": {
        "id": "qdoKaeXnF0ij",
        "outputId": "e423d243-1c29-4a94-b960-683c30dbaf25",
        "colab": {
          "base_uri": "https://localhost:8080/",
          "height": 35
        }
      },
      "source": [
        "train_df.shape"
      ],
      "execution_count": null,
      "outputs": [
        {
          "output_type": "execute_result",
          "data": {
            "text/plain": [
              "(6000, 2)"
            ]
          },
          "metadata": {
            "tags": []
          },
          "execution_count": 276
        }
      ]
    },
    {
      "cell_type": "code",
      "metadata": {
        "id": "mpbvH6RCF1ZG",
        "outputId": "9bca86b7-ac2d-436a-99c6-1fbb3195585f",
        "colab": {
          "base_uri": "https://localhost:8080/",
          "height": 424
        }
      },
      "source": [
        "train_df"
      ],
      "execution_count": null,
      "outputs": [
        {
          "output_type": "execute_result",
          "data": {
            "text/html": [
              "<div>\n",
              "<style scoped>\n",
              "    .dataframe tbody tr th:only-of-type {\n",
              "        vertical-align: middle;\n",
              "    }\n",
              "\n",
              "    .dataframe tbody tr th {\n",
              "        vertical-align: top;\n",
              "    }\n",
              "\n",
              "    .dataframe thead th {\n",
              "        text-align: right;\n",
              "    }\n",
              "</style>\n",
              "<table border=\"1\" class=\"dataframe\">\n",
              "  <thead>\n",
              "    <tr style=\"text-align: right;\">\n",
              "      <th></th>\n",
              "      <th>other</th>\n",
              "      <th>me</th>\n",
              "    </tr>\n",
              "  </thead>\n",
              "  <tbody>\n",
              "    <tr>\n",
              "      <th>0</th>\n",
              "      <td>hii</td>\n",
              "      <td>Hello</td>\n",
              "    </tr>\n",
              "    <tr>\n",
              "      <th>2</th>\n",
              "      <td>hows u</td>\n",
              "      <td>Good nd u</td>\n",
              "    </tr>\n",
              "    <tr>\n",
              "      <th>4</th>\n",
              "      <td>nicee</td>\n",
              "      <td>Aur btao papa kaise h</td>\n",
              "    </tr>\n",
              "    <tr>\n",
              "      <th>6</th>\n",
              "      <td>ache h reports nrml aai</td>\n",
              "      <td>Chlo acha h</td>\n",
              "    </tr>\n",
              "    <tr>\n",
              "      <th>8</th>\n",
              "      <td>hmmm..sb itna pray krre h reports to nrml aaen...</td>\n",
              "      <td>Ha voh toh h</td>\n",
              "    </tr>\n",
              "    <tr>\n",
              "      <th>...</th>\n",
              "      <td>...</td>\n",
              "      <td>...</td>\n",
              "    </tr>\n",
              "    <tr>\n",
              "      <th>2836</th>\n",
              "      <td>Accha thik h\\nThanks</td>\n",
              "      <td>No problem</td>\n",
              "    </tr>\n",
              "    <tr>\n",
              "      <th>2838</th>\n",
              "      <td>Chal Bhai ab Jake 500 mang Raha h rahat aya</td>\n",
              "      <td>Mtlb abhi tk payment nhi kiye the</td>\n",
              "    </tr>\n",
              "    <tr>\n",
              "      <th>2840</th>\n",
              "      <td>Nhi abhi bhi nhi horha h Chlo kr lenge</td>\n",
              "      <td>Ha kr lena</td>\n",
              "    </tr>\n",
              "    <tr>\n",
              "      <th>2843</th>\n",
              "      <td>Abe to pehle bhsdk 900 mang Raha tha gand phtt...</td>\n",
              "      <td>Vhi me bhi soche itna kis baat ka maang rha h</td>\n",
              "    </tr>\n",
              "    <tr>\n",
              "      <th>2846</th>\n",
              "      <td>Hnn vhi n sahi kiya h \\nHam students ki bakcho...</td>\n",
              "      <td>Haaa ho jaata h kbhi kbhi</td>\n",
              "    </tr>\n",
              "  </tbody>\n",
              "</table>\n",
              "<p>6000 rows × 2 columns</p>\n",
              "</div>"
            ],
            "text/plain": [
              "                                                  other                                             me\n",
              "0                                                   hii                                          Hello\n",
              "2                                                hows u                                      Good nd u\n",
              "4                                                 nicee                          Aur btao papa kaise h\n",
              "6                               ache h reports nrml aai                                    Chlo acha h\n",
              "8     hmmm..sb itna pray krre h reports to nrml aaen...                                   Ha voh toh h\n",
              "...                                                 ...                                            ...\n",
              "2836                              Accha thik h\\nThanks                                      No problem\n",
              "2838       Chal Bhai ab Jake 500 mang Raha h rahat aya               Mtlb abhi tk payment nhi kiye the\n",
              "2840             Nhi abhi bhi nhi horha h Chlo kr lenge                                     Ha kr lena\n",
              "2843  Abe to pehle bhsdk 900 mang Raha tha gand phtt...  Vhi me bhi soche itna kis baat ka maang rha h\n",
              "2846  Hnn vhi n sahi kiya h \\nHam students ki bakcho...                      Haaa ho jaata h kbhi kbhi\n",
              "\n",
              "[6000 rows x 2 columns]"
            ]
          },
          "metadata": {
            "tags": []
          },
          "execution_count": 277
        }
      ]
    },
    {
      "cell_type": "code",
      "metadata": {
        "id": "MhRFWUe1GJmb"
      },
      "source": [
        "import unicodedata\n",
        "import re\n",
        "def unicodeToAscii(s):\n",
        "    return ''.join(\n",
        "        c for c in unicodedata.normalize('NFD', s)\n",
        "        if unicodedata.category(c) != 'Mn'\n",
        "    )\n",
        "\n",
        "# Lowercase, trim, and remove non-letter characters\n",
        "\n",
        "\n",
        "def normalizeString(s):\n",
        "    s = unicodeToAscii(s.lower().strip())\n",
        "    s = re.sub(r\"([.!?])\", r\" \\1\", s)\n",
        "    s = re.sub(r\"[^a-zA-Z.!?]+\", r\" \", s)\n",
        "    return s"
      ],
      "execution_count": null,
      "outputs": []
    },
    {
      "cell_type": "code",
      "metadata": {
        "id": "31xOaBjMGyYv"
      },
      "source": [
        "train_df[\"other\"] = train_df[\"other\"].apply(lambda x: normalizeString(x))"
      ],
      "execution_count": null,
      "outputs": []
    },
    {
      "cell_type": "code",
      "metadata": {
        "id": "sZo4WaHGHVa1"
      },
      "source": [
        "train_df[\"me\"] = train_df[\"me\"].apply(lambda x: normalizeString(x))"
      ],
      "execution_count": null,
      "outputs": []
    },
    {
      "cell_type": "code",
      "metadata": {
        "id": "EXG2kDEMICkp",
        "outputId": "7fe1e578-1d06-4df3-a54f-6a1ff84ba679",
        "colab": {
          "base_uri": "https://localhost:8080/",
          "height": 424
        }
      },
      "source": [
        "train_df"
      ],
      "execution_count": null,
      "outputs": [
        {
          "output_type": "execute_result",
          "data": {
            "text/html": [
              "<div>\n",
              "<style scoped>\n",
              "    .dataframe tbody tr th:only-of-type {\n",
              "        vertical-align: middle;\n",
              "    }\n",
              "\n",
              "    .dataframe tbody tr th {\n",
              "        vertical-align: top;\n",
              "    }\n",
              "\n",
              "    .dataframe thead th {\n",
              "        text-align: right;\n",
              "    }\n",
              "</style>\n",
              "<table border=\"1\" class=\"dataframe\">\n",
              "  <thead>\n",
              "    <tr style=\"text-align: right;\">\n",
              "      <th></th>\n",
              "      <th>other</th>\n",
              "      <th>me</th>\n",
              "    </tr>\n",
              "  </thead>\n",
              "  <tbody>\n",
              "    <tr>\n",
              "      <th>0</th>\n",
              "      <td>hii</td>\n",
              "      <td>hello</td>\n",
              "    </tr>\n",
              "    <tr>\n",
              "      <th>2</th>\n",
              "      <td>hows u</td>\n",
              "      <td>good nd u</td>\n",
              "    </tr>\n",
              "    <tr>\n",
              "      <th>4</th>\n",
              "      <td>nicee</td>\n",
              "      <td>aur btao papa kaise h</td>\n",
              "    </tr>\n",
              "    <tr>\n",
              "      <th>6</th>\n",
              "      <td>ache h reports nrml aai</td>\n",
              "      <td>chlo acha h</td>\n",
              "    </tr>\n",
              "    <tr>\n",
              "      <th>8</th>\n",
              "      <td>hmmm . .sb itna pray krre h reports to nrml aa...</td>\n",
              "      <td>ha voh toh h</td>\n",
              "    </tr>\n",
              "    <tr>\n",
              "      <th>...</th>\n",
              "      <td>...</td>\n",
              "      <td>...</td>\n",
              "    </tr>\n",
              "    <tr>\n",
              "      <th>2836</th>\n",
              "      <td>accha thik h thanks</td>\n",
              "      <td>no problem</td>\n",
              "    </tr>\n",
              "    <tr>\n",
              "      <th>2838</th>\n",
              "      <td>chal bhai ab jake mang raha h rahat aya</td>\n",
              "      <td>mtlb abhi tk payment nhi kiye the</td>\n",
              "    </tr>\n",
              "    <tr>\n",
              "      <th>2840</th>\n",
              "      <td>nhi abhi bhi nhi horha h chlo kr lenge</td>\n",
              "      <td>ha kr lena</td>\n",
              "    </tr>\n",
              "    <tr>\n",
              "      <th>2843</th>\n",
              "      <td>abe to pehle bhsdk mang raha tha gand phtt gya...</td>\n",
              "      <td>vhi me bhi soche itna kis baat ka maang rha h</td>\n",
              "    </tr>\n",
              "    <tr>\n",
              "      <th>2846</th>\n",
              "      <td>hnn vhi n sahi kiya h ham students ki bakchodi...</td>\n",
              "      <td>haaa ho jaata h kbhi kbhi</td>\n",
              "    </tr>\n",
              "  </tbody>\n",
              "</table>\n",
              "<p>6000 rows × 2 columns</p>\n",
              "</div>"
            ],
            "text/plain": [
              "                                                  other                                             me\n",
              "0                                                   hii                                          hello\n",
              "2                                                hows u                                      good nd u\n",
              "4                                                 nicee                          aur btao papa kaise h\n",
              "6                               ache h reports nrml aai                                    chlo acha h\n",
              "8     hmmm . .sb itna pray krre h reports to nrml aa...                                   ha voh toh h\n",
              "...                                                 ...                                            ...\n",
              "2836                                accha thik h thanks                                     no problem\n",
              "2838            chal bhai ab jake mang raha h rahat aya              mtlb abhi tk payment nhi kiye the\n",
              "2840             nhi abhi bhi nhi horha h chlo kr lenge                                     ha kr lena\n",
              "2843  abe to pehle bhsdk mang raha tha gand phtt gya...  vhi me bhi soche itna kis baat ka maang rha h\n",
              "2846  hnn vhi n sahi kiya h ham students ki bakchodi...                      haaa ho jaata h kbhi kbhi\n",
              "\n",
              "[6000 rows x 2 columns]"
            ]
          },
          "metadata": {
            "tags": []
          },
          "execution_count": 281
        }
      ]
    },
    {
      "cell_type": "code",
      "metadata": {
        "id": "tiAf3S2FIISl"
      },
      "source": [
        "SOS_token = 0\n",
        "EOS_token = 1\n",
        "\n",
        "\n",
        "class Lang:\n",
        "    def __init__(self, name):\n",
        "        self.name = name\n",
        "        self.word2index = {}\n",
        "        self.word2count = {}\n",
        "        self.index2word = {0: \"SOS\", 1: \"EOS\"}\n",
        "        self.n_words = 2  # Count SOS and EOS\n",
        "\n",
        "    def addSentence(self, sentence):\n",
        "        for word in sentence.split(' '):\n",
        "            self.addWord(word)\n",
        "\n",
        "    def addWord(self, word):\n",
        "        if word not in self.word2index:\n",
        "            self.word2index[word] = self.n_words\n",
        "            self.word2count[word] = 1\n",
        "            self.index2word[self.n_words] = word\n",
        "            self.n_words += 1\n",
        "        else:\n",
        "            self.word2count[word] += 1"
      ],
      "execution_count": null,
      "outputs": []
    },
    {
      "cell_type": "code",
      "metadata": {
        "id": "DIW5-mzxJRc_"
      },
      "source": [
        "MAX_LENGTH = 10\n",
        "def filterPair(p):\n",
        "    return len(p[0].split(' ')) < MAX_LENGTH and \\\n",
        "        len(p[1].split(' ')) < MAX_LENGTH"
      ],
      "execution_count": null,
      "outputs": []
    },
    {
      "cell_type": "code",
      "metadata": {
        "id": "WzVNag1GJ8dS"
      },
      "source": [
        "def filterPairs(pairs):\n",
        "    return [pair for pair in pairs if filterPair(pair)]"
      ],
      "execution_count": null,
      "outputs": []
    },
    {
      "cell_type": "code",
      "metadata": {
        "id": "9NnOOIXtKAAx"
      },
      "source": [
        "def prepareData(pairs):\n",
        "    input_lang, output_lang = Lang(\"other\"),Lang(\"me\")\n",
        "    print(\"Read %s sentence pairs\" % len(pairs))\n",
        "    pairs = filterPairs(pairs)\n",
        "    print(\"Trimmed to %s sentence pairs\" % len(pairs))\n",
        "    print(\"Counting words...\")\n",
        "    for pair in pairs:\n",
        "        input_lang.addSentence(pair[0])\n",
        "        output_lang.addSentence(pair[1])\n",
        "    print(\"Counted words:\")\n",
        "    print(input_lang.name, input_lang.n_words)\n",
        "    print(output_lang.name, output_lang.n_words)\n",
        "    return input_lang, output_lang, pairs"
      ],
      "execution_count": null,
      "outputs": []
    },
    {
      "cell_type": "code",
      "metadata": {
        "id": "IOXGmC2tKY5G"
      },
      "source": [
        "pairs = train_df.values"
      ],
      "execution_count": null,
      "outputs": []
    },
    {
      "cell_type": "code",
      "metadata": {
        "id": "LykuwyZ_KtGP",
        "outputId": "4e170ef6-7733-4f93-d10e-d9518bc3d111",
        "colab": {
          "base_uri": "https://localhost:8080/",
          "height": 124
        }
      },
      "source": [
        "input_lang, output_lang, pairs = prepareData(pairs)"
      ],
      "execution_count": null,
      "outputs": [
        {
          "output_type": "stream",
          "text": [
            "Read 6000 sentence pairs\n",
            "Trimmed to 3472 sentence pairs\n",
            "Counting words...\n",
            "Counted words:\n",
            "other 3657\n",
            "me 2005\n"
          ],
          "name": "stdout"
        }
      ]
    },
    {
      "cell_type": "code",
      "metadata": {
        "id": "uS9mHyGBL84l",
        "outputId": "2c9bce37-52f5-43c3-c9c4-0aee3a9e6a2c",
        "colab": {
          "base_uri": "https://localhost:8080/",
          "height": 35
        }
      },
      "source": [
        "import random\n",
        "print(random.choice(pairs))"
      ],
      "execution_count": null,
      "outputs": [
        {
          "output_type": "stream",
          "text": [
            "['kk gussa aarha h' 'chodh n be']\n"
          ],
          "name": "stdout"
        }
      ]
    },
    {
      "cell_type": "code",
      "metadata": {
        "id": "ZUtjJ-INMEHP"
      },
      "source": [
        "import torch\n",
        "import torch.nn as nn\n",
        "from torch import optim\n",
        "import torch.nn.functional as F\n",
        "\n",
        "device = torch.device(\"cuda\" if torch.cuda.is_available() else \"cpu\")\n",
        "\n",
        "\n",
        "class EncoderRNN(nn.Module):\n",
        "    def __init__(self, input_size, hidden_size):\n",
        "        super(EncoderRNN, self).__init__()\n",
        "        self.hidden_size = hidden_size\n",
        "\n",
        "        self.embedding = nn.Embedding(input_size, hidden_size)\n",
        "        self.gru = nn.GRU(hidden_size, hidden_size)\n",
        "\n",
        "    def forward(self, input, hidden):\n",
        "        embedded = self.embedding(input).view(1, 1, -1)\n",
        "        output = embedded\n",
        "        output, hidden = self.gru(output, hidden)\n",
        "        return output, hidden\n",
        "\n",
        "    def initHidden(self):\n",
        "        return torch.zeros(1, 1, self.hidden_size, device=device)"
      ],
      "execution_count": null,
      "outputs": []
    },
    {
      "cell_type": "code",
      "metadata": {
        "id": "driXTIH4Mn1B"
      },
      "source": [
        "class AttnDecoderRNN(nn.Module):\n",
        "    def __init__(self, hidden_size, output_size, dropout_p=0.1, max_length=MAX_LENGTH):\n",
        "        super(AttnDecoderRNN, self).__init__()\n",
        "        self.hidden_size = hidden_size\n",
        "        self.output_size = output_size\n",
        "        self.dropout_p = dropout_p\n",
        "        self.max_length = max_length\n",
        "\n",
        "        self.embedding = nn.Embedding(self.output_size, self.hidden_size)\n",
        "        self.attn = nn.Linear(self.hidden_size * 2, self.max_length)\n",
        "        self.attn_combine = nn.Linear(self.hidden_size * 2, self.hidden_size)\n",
        "        self.dropout = nn.Dropout(self.dropout_p)\n",
        "        self.gru = nn.GRU(self.hidden_size, self.hidden_size)\n",
        "        self.out = nn.Linear(self.hidden_size, self.output_size)\n",
        "\n",
        "    def forward(self, input, hidden, encoder_outputs):\n",
        "        embedded = self.embedding(input).view(1, 1, -1)\n",
        "        embedded = self.dropout(embedded)\n",
        "\n",
        "        attn_weights = F.softmax(\n",
        "            self.attn(torch.cat((embedded[0], hidden[0]), 1)), dim=1)\n",
        "        attn_applied = torch.bmm(attn_weights.unsqueeze(0),\n",
        "                                 encoder_outputs.unsqueeze(0))\n",
        "\n",
        "        output = torch.cat((embedded[0], attn_applied[0]), 1)\n",
        "        output = self.attn_combine(output).unsqueeze(0)\n",
        "\n",
        "        output = F.relu(output)\n",
        "        output, hidden = self.gru(output, hidden)\n",
        "\n",
        "        output = F.log_softmax(self.out(output[0]), dim=1)\n",
        "        return output, hidden, attn_weights\n",
        "\n",
        "    def initHidden(self):\n",
        "        return torch.zeros(1, 1, self.hidden_size, device=device)"
      ],
      "execution_count": null,
      "outputs": []
    },
    {
      "cell_type": "code",
      "metadata": {
        "id": "sxOm_TteMuzA"
      },
      "source": [
        "def indexesFromSentence(lang, sentence):\n",
        "    return [lang.word2index[word] for word in sentence.split(' ')]\n",
        "\n",
        "\n",
        "def tensorFromSentence(lang, sentence):\n",
        "    indexes = indexesFromSentence(lang, sentence)\n",
        "    indexes.append(EOS_token)\n",
        "    return torch.tensor(indexes, dtype=torch.long, device=device).view(-1, 1)\n",
        "\n",
        "\n",
        "def tensorsFromPair(pair):\n",
        "    input_tensor = tensorFromSentence(input_lang, pair[0])\n",
        "    target_tensor = tensorFromSentence(output_lang, pair[1])\n",
        "    return (input_tensor, target_tensor)"
      ],
      "execution_count": null,
      "outputs": []
    },
    {
      "cell_type": "code",
      "metadata": {
        "id": "7VGDdFyLNKtm"
      },
      "source": [
        "teacher_forcing_ratio = 0.5\n",
        "\n",
        "\n",
        "def train(input_tensor, target_tensor, encoder, decoder, encoder_optimizer, decoder_optimizer, criterion, max_length=MAX_LENGTH):\n",
        "    encoder_hidden = encoder.initHidden()\n",
        "\n",
        "    encoder_optimizer.zero_grad()\n",
        "    decoder_optimizer.zero_grad()\n",
        "\n",
        "    input_length = input_tensor.size(0)\n",
        "    target_length = target_tensor.size(0)\n",
        "\n",
        "    encoder_outputs = torch.zeros(max_length, encoder.hidden_size, device=device)\n",
        "\n",
        "    loss = 0\n",
        "\n",
        "    for ei in range(input_length):\n",
        "        encoder_output, encoder_hidden = encoder(\n",
        "            input_tensor[ei], encoder_hidden)\n",
        "        encoder_outputs[ei] = encoder_output[0, 0]\n",
        "\n",
        "    decoder_input = torch.tensor([[SOS_token]], device=device)\n",
        "\n",
        "    decoder_hidden = encoder_hidden\n",
        "\n",
        "    use_teacher_forcing = True if random.random() < teacher_forcing_ratio else False\n",
        "\n",
        "    if use_teacher_forcing:\n",
        "        # Teacher forcing: Feed the target as the next input\n",
        "        for di in range(target_length):\n",
        "            decoder_output, decoder_hidden, decoder_attention = decoder(\n",
        "                decoder_input, decoder_hidden, encoder_outputs)\n",
        "            loss += criterion(decoder_output, target_tensor[di])\n",
        "            decoder_input = target_tensor[di]  # Teacher forcing\n",
        "\n",
        "    else:\n",
        "        # Without teacher forcing: use its own predictions as the next input\n",
        "        for di in range(target_length):\n",
        "            decoder_output, decoder_hidden, decoder_attention = decoder(\n",
        "                decoder_input, decoder_hidden, encoder_outputs)\n",
        "            topv, topi = decoder_output.topk(1)\n",
        "            decoder_input = topi.squeeze().detach()  # detach from history as input\n",
        "\n",
        "            loss += criterion(decoder_output, target_tensor[di])\n",
        "            if decoder_input.item() == EOS_token:\n",
        "                break\n",
        "\n",
        "    loss.backward()\n",
        "\n",
        "    encoder_optimizer.step()\n",
        "    decoder_optimizer.step()\n",
        "\n",
        "    return loss.item() / target_length"
      ],
      "execution_count": null,
      "outputs": []
    },
    {
      "cell_type": "code",
      "metadata": {
        "id": "uiBwhagZNa2r"
      },
      "source": [
        "import time\n",
        "import math\n",
        "\n",
        "\n",
        "def asMinutes(s):\n",
        "    m = math.floor(s / 60)\n",
        "    s -= m * 60\n",
        "    return '%dm %ds' % (m, s)\n",
        "\n",
        "\n",
        "def timeSince(since, percent):\n",
        "    now = time.time()\n",
        "    s = now - since\n",
        "    es = s / (percent)\n",
        "    rs = es - s\n",
        "    return '%s (- %s)' % (asMinutes(s), asMinutes(rs))"
      ],
      "execution_count": null,
      "outputs": []
    },
    {
      "cell_type": "code",
      "metadata": {
        "id": "etjQBmctNdMq"
      },
      "source": [
        "def trainIters(encoder, decoder, n_iters, print_every=1000, plot_every=100, learning_rate=0.01):\n",
        "    start = time.time()\n",
        "    plot_losses = []\n",
        "    print_loss_total = 0  # Reset every print_every\n",
        "    plot_loss_total = 0  # Reset every plot_every\n",
        "\n",
        "    encoder_optimizer = optim.SGD(encoder.parameters(), lr=learning_rate)\n",
        "    decoder_optimizer = optim.SGD(decoder.parameters(), lr=learning_rate)\n",
        "    training_pairs = [tensorsFromPair(random.choice(pairs))\n",
        "                      for i in range(n_iters)]\n",
        "    criterion = nn.NLLLoss()\n",
        "\n",
        "    for iter in range(1, n_iters + 1):\n",
        "        training_pair = training_pairs[iter - 1]\n",
        "        input_tensor = training_pair[0]\n",
        "        target_tensor = training_pair[1]\n",
        "\n",
        "        loss = train(input_tensor, target_tensor, encoder,\n",
        "                     decoder, encoder_optimizer, decoder_optimizer, criterion)\n",
        "        print_loss_total += loss\n",
        "        plot_loss_total += loss\n",
        "\n",
        "        if iter % print_every == 0:\n",
        "            print_loss_avg = print_loss_total / print_every\n",
        "            print_loss_total = 0\n",
        "            print('%s (%d %d%%) %.4f' % (timeSince(start, iter / n_iters),\n",
        "                                         iter, iter / n_iters * 100, print_loss_avg))\n",
        "\n",
        "        if iter % plot_every == 0:\n",
        "            plot_loss_avg = plot_loss_total / plot_every\n",
        "            plot_losses.append(plot_loss_avg)\n",
        "            plot_loss_total = 0\n",
        "\n",
        "    showPlot(plot_losses)"
      ],
      "execution_count": null,
      "outputs": []
    },
    {
      "cell_type": "code",
      "metadata": {
        "id": "y17eS6f8NxZ7"
      },
      "source": [
        "import matplotlib.pyplot as plt\n",
        "plt.switch_backend('agg')\n",
        "import matplotlib.ticker as ticker\n",
        "import numpy as np\n",
        "\n",
        "\n",
        "def showPlot(points):\n",
        "    plt.figure()\n",
        "    fig, ax = plt.subplots()\n",
        "    # this locator puts ticks at regular intervals\n",
        "    loc = ticker.MultipleLocator(base=0.2)\n",
        "    ax.yaxis.set_major_locator(loc)\n",
        "    plt.plot(points)"
      ],
      "execution_count": null,
      "outputs": []
    },
    {
      "cell_type": "code",
      "metadata": {
        "id": "-KRc6TzLN05U"
      },
      "source": [
        "def evaluate(encoder, decoder, sentence, max_length=MAX_LENGTH):\n",
        "    with torch.no_grad():\n",
        "        input_tensor = tensorFromSentence(input_lang, sentence)\n",
        "        input_length = input_tensor.size()[0]\n",
        "        encoder_hidden = encoder.initHidden()\n",
        "\n",
        "        encoder_outputs = torch.zeros(max_length, encoder.hidden_size, device=device)\n",
        "\n",
        "        for ei in range(input_length):\n",
        "            encoder_output, encoder_hidden = encoder(input_tensor[ei],\n",
        "                                                     encoder_hidden)\n",
        "            encoder_outputs[ei] += encoder_output[0, 0]\n",
        "\n",
        "        decoder_input = torch.tensor([[SOS_token]], device=device)  # SOS\n",
        "\n",
        "        decoder_hidden = encoder_hidden\n",
        "\n",
        "        decoded_words = []\n",
        "        decoder_attentions = torch.zeros(max_length, max_length)\n",
        "\n",
        "        for di in range(max_length):\n",
        "            decoder_output, decoder_hidden, decoder_attention = decoder(\n",
        "                decoder_input, decoder_hidden, encoder_outputs)\n",
        "            decoder_attentions[di] = decoder_attention.data\n",
        "            topv, topi = decoder_output.data.topk(1)\n",
        "            if topi.item() == EOS_token:\n",
        "                decoded_words.append('<EOS>')\n",
        "                break\n",
        "            else:\n",
        "                decoded_words.append(output_lang.index2word[topi.item()])\n",
        "\n",
        "            decoder_input = topi.squeeze().detach()\n",
        "\n",
        "        return decoded_words, decoder_attentions[:di + 1]"
      ],
      "execution_count": null,
      "outputs": []
    },
    {
      "cell_type": "code",
      "metadata": {
        "id": "VxD2GNVuN5SB"
      },
      "source": [
        "def evaluateRandomly(encoder, decoder, n=10):\n",
        "    for i in range(n):\n",
        "        pair = random.choice(pairs)\n",
        "        print('>', pair[0])\n",
        "        print('=', pair[1])\n",
        "        output_words, attentions = evaluate(encoder, decoder, pair[0])\n",
        "        output_sentence = ' '.join(output_words)\n",
        "        print('<', output_sentence)\n",
        "        print('')"
      ],
      "execution_count": null,
      "outputs": []
    },
    {
      "cell_type": "code",
      "metadata": {
        "id": "lw8UVnllN7QC",
        "outputId": "837f9584-3d0f-478c-848a-50f0d0546982",
        "colab": {
          "base_uri": "https://localhost:8080/",
          "height": 285
        }
      },
      "source": [
        "hidden_size = 256\n",
        "encoder1 = EncoderRNN(input_lang.n_words, hidden_size).to(device)\n",
        "attn_decoder1 = AttnDecoderRNN(hidden_size, output_lang.n_words, dropout_p=0.1).to(device)\n",
        "\n",
        "trainIters(encoder1, attn_decoder1, 75000, print_every=5000)"
      ],
      "execution_count": null,
      "outputs": [
        {
          "output_type": "stream",
          "text": [
            "0m 53s (- 12m 25s) (5000 6%) 3.7082\n",
            "1m 42s (- 11m 6s) (10000 13%) 3.4322\n",
            "2m 32s (- 10m 11s) (15000 20%) 3.1157\n",
            "3m 23s (- 9m 20s) (20000 26%) 2.8152\n",
            "4m 16s (- 8m 33s) (25000 33%) 2.4791\n",
            "5m 11s (- 7m 46s) (30000 40%) 2.0934\n",
            "6m 6s (- 6m 58s) (35000 46%) 1.7638\n",
            "7m 1s (- 6m 8s) (40000 53%) 1.3684\n",
            "7m 58s (- 5m 19s) (45000 60%) 1.0777\n",
            "8m 55s (- 4m 27s) (50000 66%) 0.8172\n",
            "9m 54s (- 3m 36s) (55000 73%) 0.6790\n",
            "10m 52s (- 2m 43s) (60000 80%) 0.5137\n",
            "11m 50s (- 1m 49s) (65000 86%) 0.4166\n",
            "12m 48s (- 0m 54s) (70000 93%) 0.3221\n",
            "13m 47s (- 0m 0s) (75000 100%) 0.2794\n"
          ],
          "name": "stdout"
        }
      ]
    },
    {
      "cell_type": "code",
      "metadata": {
        "id": "WR6ATDlPOaVr",
        "outputId": "8e248247-c442-4efb-98a0-7764eb0875e6",
        "colab": {
          "base_uri": "https://localhost:8080/",
          "height": 35
        }
      },
      "source": [
        "device"
      ],
      "execution_count": null,
      "outputs": [
        {
          "output_type": "execute_result",
          "data": {
            "text/plain": [
              "device(type='cuda')"
            ]
          },
          "metadata": {
            "tags": []
          },
          "execution_count": 299
        }
      ]
    },
    {
      "cell_type": "code",
      "metadata": {
        "id": "55RXzqoPPN4B",
        "outputId": "bf86bca6-8300-4d48-c3e2-96aa94514ae4",
        "colab": {
          "base_uri": "https://localhost:8080/",
          "height": 732
        }
      },
      "source": [
        "evaluateRandomly(encoder1, attn_decoder1)"
      ],
      "execution_count": null,
      "outputs": [
        {
          "output_type": "stream",
          "text": [
            "> aaj hi frnd banaaunga usko jaldii bol meko bheje\n",
            "= dher mt pagala\n",
            "< dher mt pagala <EOS>\n",
            "\n",
            "> jan gaye h rozz rozz ka h\n",
            "= ha\n",
            "< ha <EOS>\n",
            "\n",
            "> abe kyaa reh gyaa aaa\n",
            "= bs nikl gya hu\n",
            "< bs nikl gya hu <EOS>\n",
            "\n",
            "> ha ankit bola h ayega\n",
            "= acha\n",
            "< acha <EOS>\n",
            "\n",
            "> i am back\n",
            "= toh ka kru\n",
            "< toh ka kru <EOS>\n",
            "\n",
            "> matalabi\n",
            "= me bhi krta hu khaane me mdat\n",
            "< me bhi krta hu khaane me mdat <EOS>\n",
            "\n",
            "> sonali accept krrlii mera req .\n",
            "= mera nhi ki be\n",
            "< mera nhi ki be <EOS>\n",
            "\n",
            "> kyu maja nahi aata hai tumko dosto ke saath\n",
            "= nhi mere ko ab nhi aata\n",
            "< nhi mere ko ab nhi aata <EOS>\n",
            "\n",
            "> ha . .maan li . .ji\n",
            "= paper kaisa ja rha h\n",
            "< paper kaisa ja rha h <EOS>\n",
            "\n",
            "> ha . .ji . .\n",
            "= mst ladka h\n",
            "< mst ladka h <EOS>\n",
            "\n"
          ],
          "name": "stdout"
        }
      ]
    },
    {
      "cell_type": "code",
      "metadata": {
        "id": "ke4V2TJqSkVN"
      },
      "source": [
        "def evaluateinput(encoder, decoder,input):\n",
        "  output_words, attentions = evaluate(encoder, decoder, input)\n",
        "  output_sentence = ' '.join(output_words)\n",
        "  print(\"Input = \", input)\n",
        "  print('Output = ', output_sentence)\n",
        "  print('')"
      ],
      "execution_count": null,
      "outputs": []
    },
    {
      "cell_type": "code",
      "metadata": {
        "id": "skRDZ9RiTTz4",
        "outputId": "3ca3033a-c803-4a1b-e103-26b8e34b4547",
        "colab": {
          "base_uri": "https://localhost:8080/",
          "height": 71
        }
      },
      "source": [
        "evaluateinput(encoder1,attn_decoder1,\"hii\")"
      ],
      "execution_count": null,
      "outputs": [
        {
          "output_type": "stream",
          "text": [
            "Input =  hii\n",
            "Output =  aur btao kya haal h <EOS>\n",
            "\n"
          ],
          "name": "stdout"
        }
      ]
    },
    {
      "cell_type": "code",
      "metadata": {
        "id": "YQBxVe1uTf75",
        "outputId": "f78be303-d4d3-4c04-e973-7362707c0aa3",
        "colab": {
          "base_uri": "https://localhost:8080/",
          "height": 71
        }
      },
      "source": [
        "evaluateinput(encoder1,attn_decoder1,\"sona mt be\")"
      ],
      "execution_count": null,
      "outputs": [
        {
          "output_type": "stream",
          "text": [
            "Input =  sona mt be\n",
            "Output =  acha thik h <EOS>\n",
            "\n"
          ],
          "name": "stdout"
        }
      ]
    },
    {
      "cell_type": "code",
      "metadata": {
        "id": "866xEK-rxdSi",
        "outputId": "9c7fab25-1385-4d3e-b6ac-3941126b541c",
        "colab": {
          "base_uri": "https://localhost:8080/",
          "height": 71
        }
      },
      "source": [
        "evaluateinput(encoder1,attn_decoder1,\"koi gf h\")"
      ],
      "execution_count": null,
      "outputs": [
        {
          "output_type": "stream",
          "text": [
            "Input =  koi gf h\n",
            "Output =  ha <EOS>\n",
            "\n"
          ],
          "name": "stdout"
        }
      ]
    },
    {
      "cell_type": "code",
      "metadata": {
        "id": "9-udfZAPxiCo",
        "outputId": "2d321ab9-406c-419a-bdf6-b6ebd04e0b3c",
        "colab": {
          "base_uri": "https://localhost:8080/",
          "height": 71
        }
      },
      "source": [
        "evaluateinput(encoder1,attn_decoder1,\"kya kr rha\")"
      ],
      "execution_count": null,
      "outputs": [
        {
          "output_type": "stream",
          "text": [
            "Input =  kya kr rha\n",
            "Output =  padh rhe the <EOS>\n",
            "\n"
          ],
          "name": "stdout"
        }
      ]
    },
    {
      "cell_type": "code",
      "metadata": {
        "id": "p0mpMzMsxrvZ",
        "outputId": "05539bb5-01fc-483e-cb4d-e9b9700f211f",
        "colab": {
          "base_uri": "https://localhost:8080/",
          "height": 71
        }
      },
      "source": [
        "evaluateinput(encoder1,attn_decoder1,\"padh liye\")"
      ],
      "execution_count": null,
      "outputs": [
        {
          "output_type": "stream",
          "text": [
            "Input =  padh liye\n",
            "Output =  nhi aaj mja lenge <EOS>\n",
            "\n"
          ],
          "name": "stdout"
        }
      ]
    },
    {
      "cell_type": "code",
      "metadata": {
        "id": "8GZrwEcexuxL",
        "outputId": "0402b2c7-0006-4685-a42b-30f01ae0dd39",
        "colab": {
          "base_uri": "https://localhost:8080/",
          "height": 71
        }
      },
      "source": [
        "evaluateinput(encoder1,attn_decoder1,\"chutiya ho kya\")"
      ],
      "execution_count": null,
      "outputs": [
        {
          "output_type": "stream",
          "text": [
            "Input =  chutiya ho kya\n",
            "Output =  virat kholi ka h n aaaa thuuu <EOS>\n",
            "\n"
          ],
          "name": "stdout"
        }
      ]
    },
    {
      "cell_type": "code",
      "metadata": {
        "id": "VFSAnEmvx1M3",
        "outputId": "984fce9d-4cbb-4eeb-91a9-d484fdfe8e69",
        "colab": {
          "base_uri": "https://localhost:8080/",
          "height": 71
        }
      },
      "source": [
        "evaluateinput(encoder1,attn_decoder1,\"kya ho rha\")"
      ],
      "execution_count": null,
      "outputs": [
        {
          "output_type": "stream",
          "text": [
            "Input =  kya ho rha\n",
            "Output =  kuch nhi yr <EOS>\n",
            "\n"
          ],
          "name": "stdout"
        }
      ]
    },
    {
      "cell_type": "code",
      "metadata": {
        "id": "yaSiNKuQx9aW",
        "outputId": "73e4486c-8fc2-4ea8-cc8a-5797f3306988",
        "colab": {
          "base_uri": "https://localhost:8080/",
          "height": 71
        }
      },
      "source": [
        "evaluateinput(encoder1,attn_decoder1,\"kya haal h\")"
      ],
      "execution_count": null,
      "outputs": [
        {
          "output_type": "stream",
          "text": [
            "Input =  kya haal h\n",
            "Output =  ka btaye <EOS>\n",
            "\n"
          ],
          "name": "stdout"
        }
      ]
    },
    {
      "cell_type": "code",
      "metadata": {
        "id": "8eFjsCUtyEwZ",
        "outputId": "9f8a6e2f-66d1-4e3f-e090-ec8c2ec775d7",
        "colab": {
          "base_uri": "https://localhost:8080/",
          "height": 71
        }
      },
      "source": [
        "evaluateinput(encoder1,attn_decoder1,\"bc\")"
      ],
      "execution_count": null,
      "outputs": [
        {
          "output_type": "stream",
          "text": [
            "Input =  bc\n",
            "Output =  kya bol rhe ho bkchod <EOS>\n",
            "\n"
          ],
          "name": "stdout"
        }
      ]
    },
    {
      "cell_type": "code",
      "metadata": {
        "id": "OO5h0XjR4AmU"
      },
      "source": [
        ""
      ],
      "execution_count": null,
      "outputs": []
    }
  ]
}